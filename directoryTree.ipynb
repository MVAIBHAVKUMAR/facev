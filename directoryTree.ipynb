{
 "cells": [
  {
   "cell_type": "code",
   "execution_count": null,
   "metadata": {},
   "outputs": [],
   "source": [
    "class _TreeGenerator:\n",
    "    def __init__(self, root_dir, dir_only=False):\n",
    "        self._root_dir = pathlib.Path(root_dir)\n",
    "        self._dir_only = dir_only\n",
    "        self._tree = []\n",
    "\n",
    "    def build_tree(self):\n",
    "        self._tree_head()\n",
    "        self._tree_body(self._root_dir)\n",
    "        return self._tree\n",
    "\n",
    "    def _tree_head(self):\n",
    "        self._tree.append(f\"{self._root_dir}{os.sep}\")\n",
    "        self._tree.append(PIPE)\n",
    "\n",
    "    def _tree_body(self, directory, prefix=\"\"):\n",
    "        entries = self._prepare_entries(directory)\n",
    "        entries_count = len(entries)\n",
    "        for index, entry in enumerate(entries):\n",
    "            connector = ELBOW if index == entries_count - 1 else TEE\n",
    "            if entry.is_dir():\n",
    "                self._add_directory(\n",
    "                    entry, index, entries_count, prefix, connector\n",
    "                )\n",
    "            else:\n",
    "                self._add_file(entry, prefix, connector)\n",
    "\n",
    "    def _prepare_entries(self, directory):\n",
    "        entries = directory.iterdir()\n",
    "        if self._dir_only:\n",
    "            entries = [entry for entry in entries if entry.is_dir()]\n",
    "            return entries\n",
    "        entries = sorted(entries, key=lambda entry: entry.is_file())\n",
    "        return entries\n",
    "\n",
    "    def _add_directory(\n",
    "        self, directory, index, entries_count, prefix, connector\n",
    "    ):\n",
    "        self._tree.append(f\"{prefix}{connector} {directory.name}{os.sep}\")\n",
    "        if index != entries_count - 1:\n",
    "            prefix += PIPE_PREFIX\n",
    "        else:\n",
    "            prefix += SPACE_PREFIX\n",
    "        self._tree_body(\n",
    "            directory=directory,\n",
    "            prefix=prefix,\n",
    "        )\n",
    "        self._tree.append(prefix.rstrip())\n",
    "\n",
    "    def _add_file(self, file, prefix, connector):\n",
    "        self._tree.append(f\"{prefix}{connector} {file.name}\")"
   ]
  },
  {
   "cell_type": "code",
   "execution_count": null,
   "metadata": {},
   "outputs": [],
   "source": [
    "tree = DirectoryTree(root_dir='db')\n",
    "tree.generate()"
   ]
  },
  {
   "cell_type": "code",
   "execution_count": null,
   "metadata": {},
   "outputs": [],
   "source": [
    "class DirectoryTree:\n",
    "    def __init__(self, root_dir, dir_only=False, output_file=sys.stdout):\n",
    "        self._output_file = output_file\n",
    "        self._generator = _TreeGenerator(root_dir, dir_only)\n",
    "\n",
    "    def generate(self):\n",
    "        tree = self._generator.build_tree()\n",
    "        if self._output_file != sys.stdout:\n",
    "            # Wrap the tree in a markdown code block\n",
    "            tree.insert(0, \"```\")\n",
    "            tree.append(\"```\")\n",
    "            self._output_file = open(\n",
    "                self._output_file, mode=\"w\", encoding=\"UTF-8\"\n",
    "            )\n",
    "        with self._output_file as stream:\n",
    "            for entry in tree:\n",
    "                print(entry, file=stream)"
   ]
  },
  {
   "cell_type": "code",
   "execution_count": null,
   "metadata": {},
   "outputs": [],
   "source": [
    "import os\n",
    "import pathlib\n",
    "import sys"
   ]
  },
  {
   "cell_type": "code",
   "execution_count": null,
   "metadata": {},
   "outputs": [],
   "source": [
    "PIPE = \"│\"\n",
    "ELBOW = \"└──\"\n",
    "TEE = \"├──\"\n",
    "PIPE_PREFIX = \"│   \"\n",
    "SPACE_PREFIX = \"    \""
   ]
  },
  {
   "cell_type": "code",
   "execution_count": null,
   "metadata": {},
   "outputs": [],
   "source": []
  }
 ],
 "metadata": {
  "kernelspec": {
   "display_name": "Python 3",
   "language": "python",
   "name": "python3"
  },
  "language_info": {
   "name": "python",
   "version": "3.8.0"
  },
  "orig_nbformat": 4
 },
 "nbformat": 4,
 "nbformat_minor": 2
}
